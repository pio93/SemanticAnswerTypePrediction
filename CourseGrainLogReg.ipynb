{
 "cells": [
  {
   "cell_type": "code",
   "execution_count": null,
   "metadata": {},
   "outputs": [],
   "source": [
    "import pandas as pd\n",
    "from sklearn.linear_model import LogisticRegression"
   ]
  },
  {
   "cell_type": "code",
   "execution_count": null,
   "metadata": {},
   "outputs": [],
   "source": [
    "filename: str = 'data\\smarttask_dbpedia_train.json'\n",
    "df_questions = pd.read_json(filename)\n",
    "df_questions\n"
   ]
  },
  {
   "cell_type": "code",
   "execution_count": null,
   "metadata": {},
   "outputs": [],
   "source": [
    "df_questions['category'].unique()"
   ]
  },
  {
   "cell_type": "code",
   "execution_count": null,
   "metadata": {},
   "outputs": [],
   "source": [
    "df_questions = df_questions.dropna(subset=['question', 'category'])"
   ]
  },
  {
   "cell_type": "code",
   "execution_count": null,
   "metadata": {},
   "outputs": [],
   "source": [
    "from sklearn.feature_extraction.text import CountVectorizer\n",
    "count_vect = CountVectorizer()\n",
    "x_train = count_vect.fit_transform(df_questions['question'].tolist())\n",
    "x_train.shape"
   ]
  },
  {
   "cell_type": "code",
   "execution_count": null,
   "metadata": {},
   "outputs": [],
   "source": [
    "y_train = df_questions['category'].to_list()\n",
    "len(y_train)"
   ]
  },
  {
   "cell_type": "code",
   "execution_count": null,
   "metadata": {},
   "outputs": [],
   "source": [
    "clf = LogisticRegression(random_state=0, solver='saga', max_iter=1000).fit(x_train, y_train)\n",
    "clf.predict(x_train[0:10]).tolist()"
   ]
  },
  {
   "cell_type": "code",
   "execution_count": null,
   "metadata": {},
   "outputs": [],
   "source": [
    "y_train[0:10]"
   ]
  },
  {
   "cell_type": "code",
   "execution_count": null,
   "metadata": {},
   "outputs": [],
   "source": [
    "docs_new = ['Is Stavanger in Norway?', 'How many cats on the roof?', 'Who is the king of England?', 'When did WWII end?', 'Are there nuts in cookies?']\n",
    "x_toy_ex = count_vect.transform(docs_new)\n",
    "predicted = clf.predict(x_toy_ex)\n",
    "\n",
    "predicted"
   ]
  },
  {
   "cell_type": "code",
   "execution_count": null,
   "metadata": {},
   "outputs": [],
   "source": [
    "filename_test: str = 'data\\smarttask_dbpedia_test.json'\n",
    "df_questions_test = pd.read_json(filename_test)\n",
    "df_questions_test = df_questions_test.dropna(subset=['question', 'category'])\n",
    "x_test = count_vect.transform(df_questions_test['question'])\n",
    "y_test = df_questions_test['category']"
   ]
  },
  {
   "cell_type": "code",
   "execution_count": null,
   "metadata": {},
   "outputs": [],
   "source": [
    "predicted = clf.predict(x_test)\n",
    "clf.score(x_test, y_test)"
   ]
  },
  {
   "cell_type": "code",
   "execution_count": null,
   "metadata": {},
   "outputs": [],
   "source": []
  },
  {
   "cell_type": "code",
   "execution_count": null,
   "metadata": {},
   "outputs": [],
   "source": [
    "lit_cats = df_questions[df_questions['category']=='literal']['type'].values\n",
    "lit_categories = []\n",
    "for lit in lit_cats:\n",
    "    lit_categories.append(lit[0])\n",
    "    if len(lit) > 1:\n",
    "        print(lit)\n",
    "pd.Series(lit_categories).unique()"
   ]
  },
  {
   "cell_type": "code",
   "execution_count": null,
   "metadata": {},
   "outputs": [],
   "source": [
    "x_lit_df = df_questions[df_questions['category']=='literal'].dropna(subset=['type'])\n",
    "x_lit_df = x_lit_df.explode('type')\n",
    "x_lit_df"
   ]
  },
  {
   "cell_type": "code",
   "execution_count": null,
   "metadata": {},
   "outputs": [],
   "source": [
    "x_lit_train = count_vect.transform(x_lit_df['question'])\n",
    "y_lit_train = x_lit_df['type'].tolist()"
   ]
  },
  {
   "cell_type": "code",
   "execution_count": null,
   "metadata": {},
   "outputs": [],
   "source": []
  },
  {
   "cell_type": "code",
   "execution_count": null,
   "metadata": {},
   "outputs": [],
   "source": [
    "clf_literals = LogisticRegression(random_state=0, solver='saga', max_iter=1000).fit(x_lit_train, y_lit_train)"
   ]
  },
  {
   "cell_type": "code",
   "execution_count": null,
   "metadata": {},
   "outputs": [],
   "source": [
    "df_lit_test = df_questions_test[df_questions_test['category']=='literal'].dropna(subset=['type'])\n",
    "df_lit_test = df_lit_test.explode('type')\n",
    "df_lit_test\n"
   ]
  },
  {
   "cell_type": "code",
   "execution_count": null,
   "metadata": {},
   "outputs": [],
   "source": [
    "x_test_lit = count_vect.transform(df_lit_test['question'])\n",
    "y_test_lit = df_lit_test['type']"
   ]
  },
  {
   "cell_type": "code",
   "execution_count": null,
   "metadata": {},
   "outputs": [],
   "source": [
    "predicted = clf_literals.predict(x_test_lit)\n",
    "clf_literals.score(x_test_lit, y_test_lit)"
   ]
  }
 ],
 "metadata": {
  "kernelspec": {
   "display_name": "Python 3.9.12 ('DAT640')",
   "language": "python",
   "name": "python3"
  },
  "language_info": {
   "codemirror_mode": {
    "name": "ipython",
    "version": 3
   },
   "file_extension": ".py",
   "mimetype": "text/x-python",
   "name": "python",
   "nbconvert_exporter": "python",
   "pygments_lexer": "ipython3",
   "version": "3.9.12"
  },
  "orig_nbformat": 4,
  "vscode": {
   "interpreter": {
    "hash": "c43aba33fda91952d5a2011b59e45f5bc4f87c2a3dae86255c1f22beb51a9e24"
   }
  }
 },
 "nbformat": 4,
 "nbformat_minor": 2
}
