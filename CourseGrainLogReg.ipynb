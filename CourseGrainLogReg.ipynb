{
 "cells": [
  {
   "cell_type": "code",
   "execution_count": 1,
   "metadata": {},
   "outputs": [],
   "source": [
    "import pandas as pd\n",
    "from sklearn.linear_model import LogisticRegression"
   ]
  },
  {
   "cell_type": "code",
   "execution_count": 2,
   "metadata": {},
   "outputs": [
    {
     "data": {
      "text/html": [
       "<div>\n",
       "<style scoped>\n",
       "    .dataframe tbody tr th:only-of-type {\n",
       "        vertical-align: middle;\n",
       "    }\n",
       "\n",
       "    .dataframe tbody tr th {\n",
       "        vertical-align: top;\n",
       "    }\n",
       "\n",
       "    .dataframe thead th {\n",
       "        text-align: right;\n",
       "    }\n",
       "</style>\n",
       "<table border=\"1\" class=\"dataframe\">\n",
       "  <thead>\n",
       "    <tr style=\"text-align: right;\">\n",
       "      <th></th>\n",
       "      <th>id</th>\n",
       "      <th>question</th>\n",
       "      <th>category</th>\n",
       "      <th>type</th>\n",
       "    </tr>\n",
       "  </thead>\n",
       "  <tbody>\n",
       "    <tr>\n",
       "      <th>0</th>\n",
       "      <td>dbpedia_1177</td>\n",
       "      <td>Was Jacqueline Kennedy Onassis a follower of M...</td>\n",
       "      <td>boolean</td>\n",
       "      <td>[boolean]</td>\n",
       "    </tr>\n",
       "    <tr>\n",
       "      <th>1</th>\n",
       "      <td>dbpedia_14427</td>\n",
       "      <td>What is the name of the opera based on Twelfth...</td>\n",
       "      <td>resource</td>\n",
       "      <td>[dbo:Opera, dbo:MusicalWork, dbo:Work]</td>\n",
       "    </tr>\n",
       "    <tr>\n",
       "      <th>2</th>\n",
       "      <td>dbpedia_16615</td>\n",
       "      <td>When did Lena Horne receive the Grammy Award f...</td>\n",
       "      <td>literal</td>\n",
       "      <td>[date]</td>\n",
       "    </tr>\n",
       "    <tr>\n",
       "      <th>3</th>\n",
       "      <td>dbpedia_23480</td>\n",
       "      <td>Do Prince Harry and Prince William have the sa...</td>\n",
       "      <td>boolean</td>\n",
       "      <td>[boolean]</td>\n",
       "    </tr>\n",
       "    <tr>\n",
       "      <th>4</th>\n",
       "      <td>dbpedia_3681</td>\n",
       "      <td>What is the subsidiary company working for Leo...</td>\n",
       "      <td>resource</td>\n",
       "      <td>[dbo:EducationalInstitution, dbo:Organisation,...</td>\n",
       "    </tr>\n",
       "    <tr>\n",
       "      <th>...</th>\n",
       "      <td>...</td>\n",
       "      <td>...</td>\n",
       "      <td>...</td>\n",
       "      <td>...</td>\n",
       "    </tr>\n",
       "    <tr>\n",
       "      <th>17566</th>\n",
       "      <td>dbpedia_7462</td>\n",
       "      <td>Is the flexural strain at break of the acrylon...</td>\n",
       "      <td>boolean</td>\n",
       "      <td>[boolean]</td>\n",
       "    </tr>\n",
       "    <tr>\n",
       "      <th>17567</th>\n",
       "      <td>dbpedia_17610</td>\n",
       "      <td>Where did Hilary Putnam receive their Ph.D.?</td>\n",
       "      <td>resource</td>\n",
       "      <td>[dbo:University, dbo:EducationalInstitution, d...</td>\n",
       "    </tr>\n",
       "    <tr>\n",
       "      <th>17568</th>\n",
       "      <td>dbpedia_505</td>\n",
       "      <td>Who replaced Charles Evans Hughes as the Chief...</td>\n",
       "      <td>resource</td>\n",
       "      <td>[dbo:Person, dbo:Agent]</td>\n",
       "    </tr>\n",
       "    <tr>\n",
       "      <th>17569</th>\n",
       "      <td>dbpedia_18989</td>\n",
       "      <td>Name the river with source as Columbia Lake an...</td>\n",
       "      <td>resource</td>\n",
       "      <td>[dbo:River, dbo:Stream, dbo:BodyOfWater, dbo:N...</td>\n",
       "    </tr>\n",
       "    <tr>\n",
       "      <th>17570</th>\n",
       "      <td>dbpedia_11517</td>\n",
       "      <td>When will Selma Lagerlöf start their membershi...</td>\n",
       "      <td>literal</td>\n",
       "      <td>[date]</td>\n",
       "    </tr>\n",
       "  </tbody>\n",
       "</table>\n",
       "<p>17571 rows × 4 columns</p>\n",
       "</div>"
      ],
      "text/plain": [
       "                  id                                           question  \\\n",
       "0       dbpedia_1177  Was Jacqueline Kennedy Onassis a follower of M...   \n",
       "1      dbpedia_14427  What is the name of the opera based on Twelfth...   \n",
       "2      dbpedia_16615  When did Lena Horne receive the Grammy Award f...   \n",
       "3      dbpedia_23480  Do Prince Harry and Prince William have the sa...   \n",
       "4       dbpedia_3681  What is the subsidiary company working for Leo...   \n",
       "...              ...                                                ...   \n",
       "17566   dbpedia_7462  Is the flexural strain at break of the acrylon...   \n",
       "17567  dbpedia_17610       Where did Hilary Putnam receive their Ph.D.?   \n",
       "17568    dbpedia_505  Who replaced Charles Evans Hughes as the Chief...   \n",
       "17569  dbpedia_18989  Name the river with source as Columbia Lake an...   \n",
       "17570  dbpedia_11517  When will Selma Lagerlöf start their membershi...   \n",
       "\n",
       "       category                                               type  \n",
       "0       boolean                                          [boolean]  \n",
       "1      resource             [dbo:Opera, dbo:MusicalWork, dbo:Work]  \n",
       "2       literal                                             [date]  \n",
       "3       boolean                                          [boolean]  \n",
       "4      resource  [dbo:EducationalInstitution, dbo:Organisation,...  \n",
       "...         ...                                                ...  \n",
       "17566   boolean                                          [boolean]  \n",
       "17567  resource  [dbo:University, dbo:EducationalInstitution, d...  \n",
       "17568  resource                            [dbo:Person, dbo:Agent]  \n",
       "17569  resource  [dbo:River, dbo:Stream, dbo:BodyOfWater, dbo:N...  \n",
       "17570   literal                                             [date]  \n",
       "\n",
       "[17571 rows x 4 columns]"
      ]
     },
     "execution_count": 2,
     "metadata": {},
     "output_type": "execute_result"
    }
   ],
   "source": [
    "filename: str = 'data\\smarttask_dbpedia_train.json'\n",
    "df_questions = pd.read_json(filename)\n",
    "df_questions\n"
   ]
  },
  {
   "cell_type": "code",
   "execution_count": 3,
   "metadata": {},
   "outputs": [
    {
     "data": {
      "text/plain": [
       "array(['boolean', 'resource', 'literal'], dtype=object)"
      ]
     },
     "execution_count": 3,
     "metadata": {},
     "output_type": "execute_result"
    }
   ],
   "source": [
    "df_questions['category'].unique()"
   ]
  },
  {
   "cell_type": "code",
   "execution_count": 4,
   "metadata": {},
   "outputs": [],
   "source": [
    "df_questions = df_questions.dropna(subset=['question', 'category'])"
   ]
  },
  {
   "cell_type": "code",
   "execution_count": 5,
   "metadata": {},
   "outputs": [
    {
     "data": {
      "text/plain": [
       "(17528, 20992)"
      ]
     },
     "execution_count": 5,
     "metadata": {},
     "output_type": "execute_result"
    }
   ],
   "source": [
    "from sklearn.feature_extraction.text import CountVectorizer\n",
    "count_vect = CountVectorizer()\n",
    "x_train = count_vect.fit_transform(df_questions['question'].tolist())\n",
    "x_train.shape"
   ]
  },
  {
   "cell_type": "code",
   "execution_count": 6,
   "metadata": {},
   "outputs": [
    {
     "data": {
      "text/plain": [
       "17528"
      ]
     },
     "execution_count": 6,
     "metadata": {},
     "output_type": "execute_result"
    }
   ],
   "source": [
    "y_train = df_questions['category'].to_list()\n",
    "len(y_train)"
   ]
  },
  {
   "cell_type": "code",
   "execution_count": 7,
   "metadata": {},
   "outputs": [
    {
     "data": {
      "text/plain": [
       "['boolean',\n",
       " 'resource',\n",
       " 'literal',\n",
       " 'boolean',\n",
       " 'resource',\n",
       " 'literal',\n",
       " 'resource',\n",
       " 'boolean',\n",
       " 'literal',\n",
       " 'resource']"
      ]
     },
     "execution_count": 7,
     "metadata": {},
     "output_type": "execute_result"
    }
   ],
   "source": [
    "clf = LogisticRegression(random_state=0, solver='saga', max_iter=1000).fit(x_train, y_train)\n",
    "clf.predict(x_train[0:10]).tolist()"
   ]
  },
  {
   "cell_type": "code",
   "execution_count": 8,
   "metadata": {},
   "outputs": [
    {
     "data": {
      "text/plain": [
       "['boolean',\n",
       " 'resource',\n",
       " 'literal',\n",
       " 'boolean',\n",
       " 'resource',\n",
       " 'literal',\n",
       " 'resource',\n",
       " 'boolean',\n",
       " 'literal',\n",
       " 'resource']"
      ]
     },
     "execution_count": 8,
     "metadata": {},
     "output_type": "execute_result"
    }
   ],
   "source": [
    "y_train[0:10]"
   ]
  },
  {
   "cell_type": "code",
   "execution_count": 9,
   "metadata": {},
   "outputs": [
    {
     "data": {
      "text/plain": [
       "array(['boolean', 'literal', 'resource', 'literal', 'boolean'],\n",
       "      dtype='<U8')"
      ]
     },
     "execution_count": 9,
     "metadata": {},
     "output_type": "execute_result"
    }
   ],
   "source": [
    "docs_new = ['Is Stavanger in Norway?', 'How many cats on the roof?', 'Who is the king of England?', 'When did WWII end?', 'Are there nuts in cookies?']\n",
    "x_toy_ex = count_vect.transform(docs_new)\n",
    "predicted = clf.predict(x_toy_ex)\n",
    "\n",
    "predicted"
   ]
  },
  {
   "cell_type": "code",
   "execution_count": 10,
   "metadata": {},
   "outputs": [],
   "source": [
    "filename_test: str = 'data\\smarttask_dbpedia_test.json'\n",
    "df_questions_test = pd.read_json(filename_test)\n",
    "df_questions_test = df_questions_test.dropna(subset=['question', 'category'])\n",
    "x_test = count_vect.transform(df_questions_test['question'])\n",
    "y_test = df_questions_test['category']"
   ]
  },
  {
   "cell_type": "code",
   "execution_count": 11,
   "metadata": {},
   "outputs": [
    {
     "data": {
      "text/plain": [
       "0.9390550102716275"
      ]
     },
     "execution_count": 11,
     "metadata": {},
     "output_type": "execute_result"
    }
   ],
   "source": [
    "predicted = clf.predict(x_test)\n",
    "clf.score(x_test, y_test)"
   ]
  },
  {
   "cell_type": "markdown",
   "metadata": {},
   "source": [
    "### Classify literal type for questions in training set labeled as literal"
   ]
  },
  {
   "cell_type": "code",
   "execution_count": 12,
   "metadata": {},
   "outputs": [
    {
     "data": {
      "text/html": [
       "<div>\n",
       "<style scoped>\n",
       "    .dataframe tbody tr th:only-of-type {\n",
       "        vertical-align: middle;\n",
       "    }\n",
       "\n",
       "    .dataframe tbody tr th {\n",
       "        vertical-align: top;\n",
       "    }\n",
       "\n",
       "    .dataframe thead th {\n",
       "        text-align: right;\n",
       "    }\n",
       "</style>\n",
       "<table border=\"1\" class=\"dataframe\">\n",
       "  <thead>\n",
       "    <tr style=\"text-align: right;\">\n",
       "      <th></th>\n",
       "      <th>id</th>\n",
       "      <th>question</th>\n",
       "      <th>category</th>\n",
       "      <th>type</th>\n",
       "    </tr>\n",
       "  </thead>\n",
       "  <tbody>\n",
       "    <tr>\n",
       "      <th>2</th>\n",
       "      <td>dbpedia_16615</td>\n",
       "      <td>When did Lena Horne receive the Grammy Award f...</td>\n",
       "      <td>literal</td>\n",
       "      <td>date</td>\n",
       "    </tr>\n",
       "    <tr>\n",
       "      <th>5</th>\n",
       "      <td>dbpedia_14897</td>\n",
       "      <td>Which is the hierarchical BrainInfo ID of the ...</td>\n",
       "      <td>literal</td>\n",
       "      <td>string</td>\n",
       "    </tr>\n",
       "    <tr>\n",
       "      <th>8</th>\n",
       "      <td>dbpedia_3712</td>\n",
       "      <td>what is the musical composer id of bedrish sme...</td>\n",
       "      <td>literal</td>\n",
       "      <td>string</td>\n",
       "    </tr>\n",
       "    <tr>\n",
       "      <th>10</th>\n",
       "      <td>dbpedia_14847</td>\n",
       "      <td>How often are the Paralympic games held?</td>\n",
       "      <td>literal</td>\n",
       "      <td>number</td>\n",
       "    </tr>\n",
       "    <tr>\n",
       "      <th>18</th>\n",
       "      <td>dbpedia_6806</td>\n",
       "      <td>In what year did Tim Hunt give a Croonian Lect...</td>\n",
       "      <td>literal</td>\n",
       "      <td>date</td>\n",
       "    </tr>\n",
       "    <tr>\n",
       "      <th>...</th>\n",
       "      <td>...</td>\n",
       "      <td>...</td>\n",
       "      <td>...</td>\n",
       "      <td>...</td>\n",
       "    </tr>\n",
       "    <tr>\n",
       "      <th>17553</th>\n",
       "      <td>dbpedia_141</td>\n",
       "      <td>What is Bandysidan player ID for Sergey Lomanov ?</td>\n",
       "      <td>literal</td>\n",
       "      <td>string</td>\n",
       "    </tr>\n",
       "    <tr>\n",
       "      <th>17558</th>\n",
       "      <td>dbpedia_3605</td>\n",
       "      <td>What is the total fertility rate for operators...</td>\n",
       "      <td>literal</td>\n",
       "      <td>number</td>\n",
       "    </tr>\n",
       "    <tr>\n",
       "      <th>17560</th>\n",
       "      <td>dbpedia_6823</td>\n",
       "      <td>What is long  lives in  John Keats ?</td>\n",
       "      <td>literal</td>\n",
       "      <td>number</td>\n",
       "    </tr>\n",
       "    <tr>\n",
       "      <th>17561</th>\n",
       "      <td>dbpedia_10069</td>\n",
       "      <td>Who is the employer of the {Hans Krebs} ?</td>\n",
       "      <td>literal</td>\n",
       "      <td>number</td>\n",
       "    </tr>\n",
       "    <tr>\n",
       "      <th>17570</th>\n",
       "      <td>dbpedia_11517</td>\n",
       "      <td>When will Selma Lagerlöf start their membershi...</td>\n",
       "      <td>literal</td>\n",
       "      <td>date</td>\n",
       "    </tr>\n",
       "  </tbody>\n",
       "</table>\n",
       "<p>5156 rows × 4 columns</p>\n",
       "</div>"
      ],
      "text/plain": [
       "                  id                                           question  \\\n",
       "2      dbpedia_16615  When did Lena Horne receive the Grammy Award f...   \n",
       "5      dbpedia_14897  Which is the hierarchical BrainInfo ID of the ...   \n",
       "8       dbpedia_3712  what is the musical composer id of bedrish sme...   \n",
       "10     dbpedia_14847           How often are the Paralympic games held?   \n",
       "18      dbpedia_6806  In what year did Tim Hunt give a Croonian Lect...   \n",
       "...              ...                                                ...   \n",
       "17553    dbpedia_141  What is Bandysidan player ID for Sergey Lomanov ?   \n",
       "17558   dbpedia_3605  What is the total fertility rate for operators...   \n",
       "17560   dbpedia_6823               What is long  lives in  John Keats ?   \n",
       "17561  dbpedia_10069          Who is the employer of the {Hans Krebs} ?   \n",
       "17570  dbpedia_11517  When will Selma Lagerlöf start their membershi...   \n",
       "\n",
       "      category    type  \n",
       "2      literal    date  \n",
       "5      literal  string  \n",
       "8      literal  string  \n",
       "10     literal  number  \n",
       "18     literal    date  \n",
       "...        ...     ...  \n",
       "17553  literal  string  \n",
       "17558  literal  number  \n",
       "17560  literal  number  \n",
       "17561  literal  number  \n",
       "17570  literal    date  \n",
       "\n",
       "[5156 rows x 4 columns]"
      ]
     },
     "execution_count": 12,
     "metadata": {},
     "output_type": "execute_result"
    }
   ],
   "source": [
    "x_lit_df = df_questions[df_questions['category']=='literal'].dropna(subset=['type'])\n",
    "x_lit_df = x_lit_df.explode('type')\n",
    "x_lit_df"
   ]
  },
  {
   "cell_type": "code",
   "execution_count": 13,
   "metadata": {},
   "outputs": [],
   "source": [
    "x_lit_train = count_vect.transform(x_lit_df['question'])\n",
    "y_lit_train = x_lit_df['type'].tolist()"
   ]
  },
  {
   "cell_type": "code",
   "execution_count": 14,
   "metadata": {},
   "outputs": [],
   "source": [
    "clf_literals = LogisticRegression(random_state=0, solver='saga', max_iter=1000).fit(x_lit_train, y_lit_train)"
   ]
  },
  {
   "cell_type": "code",
   "execution_count": 15,
   "metadata": {},
   "outputs": [
    {
     "data": {
      "text/plain": [
       "array(['number', 'string', 'date'], dtype=object)"
      ]
     },
     "execution_count": 15,
     "metadata": {},
     "output_type": "execute_result"
    }
   ],
   "source": [
    "df_lit_test = df_questions_test[df_questions_test['category']=='literal'].dropna(subset=['type'])\n",
    "df_lit_test = df_lit_test.explode('type')\n",
    "df_lit_test['type'].unique()\n"
   ]
  },
  {
   "cell_type": "code",
   "execution_count": 16,
   "metadata": {},
   "outputs": [],
   "source": [
    "x_lit_test = count_vect.transform(df_lit_test['question'])\n",
    "y_lit_test = df_lit_test['type']"
   ]
  },
  {
   "cell_type": "code",
   "execution_count": 17,
   "metadata": {},
   "outputs": [
    {
     "data": {
      "text/plain": [
       "0.9318910256410257"
      ]
     },
     "execution_count": 17,
     "metadata": {},
     "output_type": "execute_result"
    }
   ],
   "source": [
    "predicted = clf_literals.predict(x_lit_test)\n",
    "clf_literals.score(x_lit_test, y_lit_test)"
   ]
  }
 ],
 "metadata": {
  "kernelspec": {
   "display_name": "Python 3.9.12 ('DAT640')",
   "language": "python",
   "name": "python3"
  },
  "language_info": {
   "codemirror_mode": {
    "name": "ipython",
    "version": 3
   },
   "file_extension": ".py",
   "mimetype": "text/x-python",
   "name": "python",
   "nbconvert_exporter": "python",
   "pygments_lexer": "ipython3",
   "version": "3.9.12"
  },
  "orig_nbformat": 4,
  "vscode": {
   "interpreter": {
    "hash": "c43aba33fda91952d5a2011b59e45f5bc4f87c2a3dae86255c1f22beb51a9e24"
   }
  }
 },
 "nbformat": 4,
 "nbformat_minor": 2
}
