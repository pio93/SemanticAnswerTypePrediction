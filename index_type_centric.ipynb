{
 "cells": [
  {
   "cell_type": "code",
   "execution_count": 17,
   "metadata": {},
   "outputs": [],
   "source": [
    "from rdflib import Graph\n",
    "from collections import defaultdict\n",
    "import re\n",
    "import string\n",
    "import json\n",
    "from smart_dataset.evaluation.dbpedia.evaluate import evaluate, load_ground_truth, load_system_output, load_type_hierarchy\n",
    "from log_reg_categorizer import LogRegCategorizer\n",
    "import elasticsearch as es\n",
    "\n",
    "RESOURCE_URL = 'http://dbpedia.org/resource/'"
   ]
  },
  {
   "cell_type": "code",
   "execution_count": 2,
   "metadata": {},
   "outputs": [],
   "source": [
    "## READ IN dbpedia short_abstracts_en.ttl\n",
    "short_abstracts = defaultdict(str)\n",
    "g = Graph()\n",
    "\n",
    "g.parse('./data/short_abstracts_en.ttl', format='n3')\n",
    "for subj, pred, obj in g:\n",
    "    assert(str(pred) == 'http://www.w3.org/2000/01/rdf-schema#comment') # assuming all predicates in file are same\n",
    "    short_abstracts[str(subj)] = str(obj)\n",
    "\n",
    "short_abstracts = dict(short_abstracts)"
   ]
  },
  {
   "cell_type": "code",
   "execution_count": 3,
   "metadata": {},
   "outputs": [
    {
     "name": "stdout",
     "output_type": "stream",
     "text": [
      "Loading type hierarchy from ./smart_dataset/evaluation/dbpedia/dbpedia_types.tsv... 761 types loaded (max depth: 7)\n"
     ]
    }
   ],
   "source": [
    "## READ IN smart_dataset competition dbpedia types\n",
    "type_hier = load_type_hierarchy('./smart_dataset/evaluation/dbpedia/dbpedia_types.tsv')"
   ]
  },
  {
   "cell_type": "code",
   "execution_count": 4,
   "metadata": {},
   "outputs": [],
   "source": [
    "## READ IN dbpedia instance_types_en.ttl\n",
    "type_dict = defaultdict(lambda: defaultdict(str))\n",
    "g = Graph()\n",
    "\n",
    "g.parse('./data/instance_types_en.ttl', format='n3')\n",
    "for subj, pred, obj in g:\n",
    "    assert subj.startswith(RESOURCE_URL) # Assuming entire file contains resource type predicates\n",
    "    assert str(pred) == 'http://www.w3.org/1999/02/22-rdf-syntax-ns#type'\n",
    "\n",
    "    # convert object into e.g. 'dbo:Person', 'dbo:Place', 'owl:Thing' format or skip\n",
    "    if obj.startswith('http://dbpedia.org/ontology/'):\n",
    "        smart_type = 'dbo:' + obj.split('http://dbpedia.org/ontology/')[1]\n",
    "    elif str(obj) == 'http://www.w3.org/2002/07/owl#Thing':\n",
    "        smart_type = 'owl:Thing'\n",
    "    else:\n",
    "        continue\n",
    "\n",
    "    # split double underscore from remaining string, check for abstract of most specific (rightmost)\n",
    "    # sub resource type, and continue moving left through the terms until one is found\n",
    "    resource_name = re.sub(r'_+\\d+', '', subj.split(RESOURCE_URL)[1])\n",
    "    resource_name_split = resource_name.split('__')\n",
    "    i = len(resource_name_split)\n",
    "    while i >= 1:\n",
    "        if RESOURCE_URL + resource_name_split[i-1] in short_abstracts.keys():\n",
    "            resource_name = resource_name_split[i-1]\n",
    "            break\n",
    "        i -= 1\n",
    "\n",
    "    # write to dictionary if type is contained in the ontology\n",
    "    if smart_type in type_hier[0].keys():\n",
    "        type_dict[smart_type][resource_name.replace('_', ' ')] = short_abstracts.get(RESOURCE_URL + resource_name, '')\n",
    "        \n",
    "type_dict = dict(type_dict)"
   ]
  },
  {
   "cell_type": "code",
   "execution_count": 5,
   "metadata": {},
   "outputs": [
    {
     "data": {
      "text/plain": [
       "'Chiropteris Chiropteris is an extinct genus that existed from Permian to Triassic. Ginkgoales Ginkgoales is a plant order containing only one extant species: Ginkgo biloba, the ginkgo tree. It is monotypic (the only taxon) within the class Ginkgoopsida, which itself is monotypic within the division Ginkgophyta. The order includes five families, of which only Ginkgoaceae remains extant. Ginkgoites Ginkgoites refers to extinct plants belonging to Ginkgoaceae. Fossils of these plants have been found around the globe during the Triassic, Jurassic and Cretaceous. The name was created as a form genus in 1919 by Albert Seward who stated: \"I ... propose to employ the name Ginkgoites for leaves that it is believed belong either to plants generically identical with Ginkgo or to very closely allied types\". Schmeissneria Schmeissneria is a possible early plant recorded from the Lower Jurassic of Europe and the Middle Jurassic of China, traditionally included in the Ginkgophyta. Baieroxylon Baieroxylon is an extinct genus of plants belonging to Ginkgoaceae that were found around the globe during the Triassic, Jurassic and Cretaceous periods. Sphenobaiera Sphenobaiera is a plant that lived in the Late Cretaceous period. The genus Sphenobaiera is used for plants with wedge-shaped leaves that can be distinguished from Ginkgo, Ginkgoites and Baiera by the lack of a petiole. It became extinct about 72.6 million years ago. The family to which this genus belongs has not been conclusively established; an affinity with the Karkeniaceae has been suggested on morphological grounds. Cheirophyllum Cheirophyllum is an extinct genus that existed during the Permian.'"
      ]
     },
     "execution_count": 5,
     "metadata": {},
     "output_type": "execute_result"
    }
   ],
   "source": [
    "' '.join([' '.join([key, value]) for key, value in type_dict['dbo:Ginkgo'].items()])"
   ]
  },
  {
   "cell_type": "code",
   "execution_count": 6,
   "metadata": {},
   "outputs": [],
   "source": [
    "INDEX_SETTINGS = {    \n",
    "    'settings' : {\n",
    "        'index' : {\n",
    "            \"number_of_shards\" : 1,\n",
    "            \"number_of_replicas\" : 1\n",
    "        },\n",
    "        'analysis': {\n",
    "            'analyzer': {\n",
    "                'my_english_analyzer': {\n",
    "                    'type': \"custom\",\n",
    "                    'tokenizer': \"standard\",\n",
    "                    'stopwords': \"_english_\",\n",
    "                    'filter': [\n",
    "                        \"lowercase\",\n",
    "                        \"english_stop\",\n",
    "                        \"filter_english_minimal\"\n",
    "                    ]                \n",
    "                }\n",
    "            },\n",
    "            'filter' : {\n",
    "                'filter_english_minimal' : {\n",
    "                    'type': \"stemmer\",\n",
    "                    'name': \"minimal_english\"\n",
    "                },\n",
    "                'english_stop': {\n",
    "                    'type': \"stop\",\n",
    "                    'stopwords': \"_english_\"\n",
    "                }\n",
    "            },\n",
    "        }\n",
    "    },\n",
    "    'mappings': {\n",
    "        'properties': {\n",
    "            'catch_all': {\n",
    "                'type': \"text\",\n",
    "                'term_vector': \"with_positions\",\n",
    "                'analyzer': \"my_english_analyzer\"\n",
    "            },\n",
    "\n",
    "        }\n",
    "    }\n",
    "}\n"
   ]
  },
  {
   "cell_type": "code",
   "execution_count": 7,
   "metadata": {},
   "outputs": [],
   "source": [
    "es = es.Elasticsearch()\n",
    "INDEX_NAME = 'dbpediatypes'"
   ]
  },
  {
   "cell_type": "code",
   "execution_count": 8,
   "metadata": {},
   "outputs": [
    {
     "name": "stderr",
     "output_type": "stream",
     "text": [
      "c:\\Users\\Adam\\anaconda3\\envs\\DAT640\\lib\\site-packages\\elasticsearch\\connection\\base.py:190: ElasticsearchDeprecationWarning: Elasticsearch built-in security features are not enabled. Without authentication, your cluster could be accessible to anyone. See https://www.elastic.co/guide/en/elasticsearch/reference/7.17/security-minimal-setup.html to enable security.\n",
      "  warnings.warn(message, category=ElasticsearchDeprecationWarning)\n"
     ]
    },
    {
     "data": {
      "text/plain": [
       "{'acknowledged': True, 'shards_acknowledged': True, 'index': 'dbpediatypes'}"
      ]
     },
     "execution_count": 8,
     "metadata": {},
     "output_type": "execute_result"
    }
   ],
   "source": [
    "if es.indices.exists(index=INDEX_NAME):\n",
    "    es.indices.delete(index=INDEX_NAME)\n",
    "\n",
    "es.indices.create(index=INDEX_NAME, body=INDEX_SETTINGS)"
   ]
  },
  {
   "cell_type": "code",
   "execution_count": 9,
   "metadata": {},
   "outputs": [],
   "source": [
    "for type_id, entity_dict in type_dict.items():\n",
    "    es.index(index=INDEX_NAME, id=type_id, body={'catch_all': ' '.join([' '.join([key, value]) for key, value in type_dict[type_id].items()])})"
   ]
  },
  {
   "cell_type": "code",
   "execution_count": 10,
   "metadata": {},
   "outputs": [],
   "source": [
    "res = es.search(index=INDEX_NAME, q='What is the capital of Norway?', size=5)"
   ]
  },
  {
   "cell_type": "code",
   "execution_count": 11,
   "metadata": {},
   "outputs": [
    {
     "name": "stdout",
     "output_type": "stream",
     "text": [
      "Doc ID: 'dbo:Country'  Score:  2.47\n",
      "Doc ID: 'dbo:MilitaryConflict'  Score:  2.46\n",
      "Doc ID: 'dbo:AdministrativeRegion'  Score:  2.46\n",
      "Doc ID: 'dbo:Building'  Score:  2.45\n",
      "Doc ID: 'dbo:Town'  Score:  2.45\n"
     ]
    }
   ],
   "source": [
    "for hit in res[\"hits\"][\"hits\"]:\n",
    "    print(\"Doc ID: %3r  Score: %5.2f\" % (hit[\"_id\"], hit[\"_score\"]))"
   ]
  },
  {
   "cell_type": "code",
   "execution_count": 12,
   "metadata": {},
   "outputs": [],
   "source": [
    "# load test data\n",
    "test_questions = json.load(open('./data/smarttask_dbpedia_test_questions.json'))"
   ]
  },
  {
   "cell_type": "code",
   "execution_count": 13,
   "metadata": {},
   "outputs": [],
   "source": [
    "# import category classification module\n",
    "lrc = LogRegCategorizer('./data/smarttask_dbpedia_train.json')"
   ]
  },
  {
   "cell_type": "code",
   "execution_count": 14,
   "metadata": {},
   "outputs": [
    {
     "name": "stderr",
     "output_type": "stream",
     "text": [
      "c:\\Users\\Adam\\anaconda3\\envs\\DAT640\\lib\\site-packages\\elasticsearch\\connection\\base.py:190: ElasticsearchDeprecationWarning: Elasticsearch built-in security features are not enabled. Without authentication, your cluster could be accessible to anyone. See https://www.elastic.co/guide/en/elasticsearch/reference/7.17/security-minimal-setup.html to enable security.\n",
      "  warnings.warn(message, category=ElasticsearchDeprecationWarning)\n"
     ]
    }
   ],
   "source": [
    "baseline_output = list()\n",
    "\n",
    "for question in test_questions:\n",
    "    q_id = question['id']\n",
    "    q_text = question['question']\n",
    "    q_cat = lrc.predict([q_text])[0]\n",
    "    if q_cat == 'boolean':\n",
    "        q_type = ['boolean']\n",
    "    elif q_cat == 'literal':\n",
    "        q_type = lrc.predict_literal_type([q_text]).tolist()\n",
    "    elif q_cat == 'resource':\n",
    "        res = es.search(index=INDEX_NAME, q=q_text.translate(str.maketrans('', '', string.punctuation)), size=5)\n",
    "        q_type = [hit[\"_id\"] for hit in res[\"hits\"][\"hits\"]]\n",
    "    else:\n",
    "        q_type = None\n",
    "    \n",
    "    baseline_output.append({\n",
    "        'id': q_id,\n",
    "        'question': q_text,\n",
    "        'category': q_cat,\n",
    "        'type' : q_type\n",
    "    })"
   ]
  },
  {
   "cell_type": "code",
   "execution_count": 19,
   "metadata": {},
   "outputs": [],
   "source": [
    "with open('./data/baseline_TC_results_test.json', 'w') as outfile:\n",
    "    json.dump(baseline_output, outfile)"
   ]
  },
  {
   "cell_type": "code",
   "execution_count": 21,
   "metadata": {},
   "outputs": [
    {
     "name": "stdout",
     "output_type": "stream",
     "text": [
      "Loading system predictions from ./data/baseline_type_cent_results_test.json... \n",
      "   4369 predictions loaded\n",
      "Loading ground truth from ./data/smarttask_dbpedia_test.json... \n",
      "   4369 questions loaded\n",
      "\n",
      "\n",
      "Evaluation results:\n",
      "-------------------\n",
      "Category prediction (based on 4369 questions)\n",
      "  Accuracy: 0.939\n",
      "Type ranking (based on 4369 questions)\n",
      "  NDCG@5:  0.498\n",
      "  NDCG@10: 0.477\n"
     ]
    }
   ],
   "source": [
    "\n",
    "so = load_system_output('./data/baseline_TC_results_test.json')\n",
    "gt = load_ground_truth('./data/smarttask_dbpedia_test.json', type_hier[0].keys())\n",
    "evaluate(so, gt, type_hier[0], 7)"
   ]
  }
 ],
 "metadata": {
  "kernelspec": {
   "display_name": "Python 3.9.12 ('DAT640')",
   "language": "python",
   "name": "python3"
  },
  "language_info": {
   "codemirror_mode": {
    "name": "ipython",
    "version": 3
   },
   "file_extension": ".py",
   "mimetype": "text/x-python",
   "name": "python",
   "nbconvert_exporter": "python",
   "pygments_lexer": "ipython3",
   "version": "3.9.12"
  },
  "orig_nbformat": 4,
  "vscode": {
   "interpreter": {
    "hash": "c43aba33fda91952d5a2011b59e45f5bc4f87c2a3dae86255c1f22beb51a9e24"
   }
  }
 },
 "nbformat": 4,
 "nbformat_minor": 2
}
