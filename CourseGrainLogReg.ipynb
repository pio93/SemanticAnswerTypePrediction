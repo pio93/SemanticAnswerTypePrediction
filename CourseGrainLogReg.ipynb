{
 "cells": [
  {
   "cell_type": "code",
   "execution_count": 1,
   "metadata": {},
   "outputs": [],
   "source": [
    "from typing import Callable, Dict, List, Set\n",
    "\n",
    "import csv\n",
    "import os\n",
    "from collections import defaultdict\n",
    "import pandas as pd"
   ]
  },
  {
   "cell_type": "code",
   "execution_count": 2,
   "metadata": {},
   "outputs": [
    {
     "name": "stdout",
     "output_type": "stream",
     "text": [
      "data\\smarttask_dbpedia_train.json\n"
     ]
    },
    {
     "data": {
      "text/html": [
       "<div>\n",
       "<style scoped>\n",
       "    .dataframe tbody tr th:only-of-type {\n",
       "        vertical-align: middle;\n",
       "    }\n",
       "\n",
       "    .dataframe tbody tr th {\n",
       "        vertical-align: top;\n",
       "    }\n",
       "\n",
       "    .dataframe thead th {\n",
       "        text-align: right;\n",
       "    }\n",
       "</style>\n",
       "<table border=\"1\" class=\"dataframe\">\n",
       "  <thead>\n",
       "    <tr style=\"text-align: right;\">\n",
       "      <th></th>\n",
       "      <th>id</th>\n",
       "      <th>question</th>\n",
       "      <th>category</th>\n",
       "      <th>type</th>\n",
       "    </tr>\n",
       "  </thead>\n",
       "  <tbody>\n",
       "    <tr>\n",
       "      <th>0</th>\n",
       "      <td>dbpedia_1177</td>\n",
       "      <td>Was Jacqueline Kennedy Onassis a follower of M...</td>\n",
       "      <td>boolean</td>\n",
       "      <td>[boolean]</td>\n",
       "    </tr>\n",
       "    <tr>\n",
       "      <th>1</th>\n",
       "      <td>dbpedia_14427</td>\n",
       "      <td>What is the name of the opera based on Twelfth...</td>\n",
       "      <td>resource</td>\n",
       "      <td>[dbo:Opera, dbo:MusicalWork, dbo:Work]</td>\n",
       "    </tr>\n",
       "    <tr>\n",
       "      <th>2</th>\n",
       "      <td>dbpedia_16615</td>\n",
       "      <td>When did Lena Horne receive the Grammy Award f...</td>\n",
       "      <td>literal</td>\n",
       "      <td>[date]</td>\n",
       "    </tr>\n",
       "    <tr>\n",
       "      <th>3</th>\n",
       "      <td>dbpedia_23480</td>\n",
       "      <td>Do Prince Harry and Prince William have the sa...</td>\n",
       "      <td>boolean</td>\n",
       "      <td>[boolean]</td>\n",
       "    </tr>\n",
       "    <tr>\n",
       "      <th>4</th>\n",
       "      <td>dbpedia_3681</td>\n",
       "      <td>What is the subsidiary company working for Leo...</td>\n",
       "      <td>resource</td>\n",
       "      <td>[dbo:EducationalInstitution, dbo:Organisation,...</td>\n",
       "    </tr>\n",
       "    <tr>\n",
       "      <th>...</th>\n",
       "      <td>...</td>\n",
       "      <td>...</td>\n",
       "      <td>...</td>\n",
       "      <td>...</td>\n",
       "    </tr>\n",
       "    <tr>\n",
       "      <th>17566</th>\n",
       "      <td>dbpedia_7462</td>\n",
       "      <td>Is the flexural strain at break of the acrylon...</td>\n",
       "      <td>boolean</td>\n",
       "      <td>[boolean]</td>\n",
       "    </tr>\n",
       "    <tr>\n",
       "      <th>17567</th>\n",
       "      <td>dbpedia_17610</td>\n",
       "      <td>Where did Hilary Putnam receive their Ph.D.?</td>\n",
       "      <td>resource</td>\n",
       "      <td>[dbo:University, dbo:EducationalInstitution, d...</td>\n",
       "    </tr>\n",
       "    <tr>\n",
       "      <th>17568</th>\n",
       "      <td>dbpedia_505</td>\n",
       "      <td>Who replaced Charles Evans Hughes as the Chief...</td>\n",
       "      <td>resource</td>\n",
       "      <td>[dbo:Person, dbo:Agent]</td>\n",
       "    </tr>\n",
       "    <tr>\n",
       "      <th>17569</th>\n",
       "      <td>dbpedia_18989</td>\n",
       "      <td>Name the river with source as Columbia Lake an...</td>\n",
       "      <td>resource</td>\n",
       "      <td>[dbo:River, dbo:Stream, dbo:BodyOfWater, dbo:N...</td>\n",
       "    </tr>\n",
       "    <tr>\n",
       "      <th>17570</th>\n",
       "      <td>dbpedia_11517</td>\n",
       "      <td>When will Selma Lagerlöf start their membershi...</td>\n",
       "      <td>literal</td>\n",
       "      <td>[date]</td>\n",
       "    </tr>\n",
       "  </tbody>\n",
       "</table>\n",
       "<p>17571 rows × 4 columns</p>\n",
       "</div>"
      ],
      "text/plain": [
       "                  id                                           question  \\\n",
       "0       dbpedia_1177  Was Jacqueline Kennedy Onassis a follower of M...   \n",
       "1      dbpedia_14427  What is the name of the opera based on Twelfth...   \n",
       "2      dbpedia_16615  When did Lena Horne receive the Grammy Award f...   \n",
       "3      dbpedia_23480  Do Prince Harry and Prince William have the sa...   \n",
       "4       dbpedia_3681  What is the subsidiary company working for Leo...   \n",
       "...              ...                                                ...   \n",
       "17566   dbpedia_7462  Is the flexural strain at break of the acrylon...   \n",
       "17567  dbpedia_17610       Where did Hilary Putnam receive their Ph.D.?   \n",
       "17568    dbpedia_505  Who replaced Charles Evans Hughes as the Chief...   \n",
       "17569  dbpedia_18989  Name the river with source as Columbia Lake an...   \n",
       "17570  dbpedia_11517  When will Selma Lagerlöf start their membershi...   \n",
       "\n",
       "       category                                               type  \n",
       "0       boolean                                          [boolean]  \n",
       "1      resource             [dbo:Opera, dbo:MusicalWork, dbo:Work]  \n",
       "2       literal                                             [date]  \n",
       "3       boolean                                          [boolean]  \n",
       "4      resource  [dbo:EducationalInstitution, dbo:Organisation,...  \n",
       "...         ...                                                ...  \n",
       "17566   boolean                                          [boolean]  \n",
       "17567  resource  [dbo:University, dbo:EducationalInstitution, d...  \n",
       "17568  resource                            [dbo:Person, dbo:Agent]  \n",
       "17569  resource  [dbo:River, dbo:Stream, dbo:BodyOfWater, dbo:N...  \n",
       "17570   literal                                             [date]  \n",
       "\n",
       "[17571 rows x 4 columns]"
      ]
     },
     "execution_count": 2,
     "metadata": {},
     "output_type": "execute_result"
    }
   ],
   "source": [
    "\n",
    "filename: str = os.path.join('data', 'smarttask_dbpedia_train.json')\n",
    "print(filename)\n",
    "df_questions = pd.read_json(filename)\n",
    "\n",
    "df_questions\n",
    "\n"
   ]
  },
  {
   "cell_type": "code",
   "execution_count": 3,
   "metadata": {},
   "outputs": [
    {
     "data": {
      "text/plain": [
       "array(['boolean', 'resource', 'literal'], dtype=object)"
      ]
     },
     "execution_count": 3,
     "metadata": {},
     "output_type": "execute_result"
    }
   ],
   "source": [
    "df_questions['category'].unique()"
   ]
  },
  {
   "cell_type": "code",
   "execution_count": 4,
   "metadata": {},
   "outputs": [],
   "source": [
    "df_questions = df_questions.dropna(subset=['question', 'category'])\n"
   ]
  },
  {
   "cell_type": "code",
   "execution_count": 5,
   "metadata": {},
   "outputs": [
    {
     "data": {
      "text/plain": [
       "(17528, 20992)"
      ]
     },
     "execution_count": 5,
     "metadata": {},
     "output_type": "execute_result"
    }
   ],
   "source": [
    "from sklearn.feature_extraction.text import CountVectorizer\n",
    "count_vect = CountVectorizer()\n",
    "x_train = count_vect.fit_transform(df_questions['question'].tolist())\n",
    "x_train.shape"
   ]
  },
  {
   "cell_type": "code",
   "execution_count": 6,
   "metadata": {},
   "outputs": [
    {
     "data": {
      "text/plain": [
       "17528"
      ]
     },
     "execution_count": 6,
     "metadata": {},
     "output_type": "execute_result"
    }
   ],
   "source": [
    "y_train = df_questions['category'].to_list()\n",
    "len(y_train)"
   ]
  },
  {
   "cell_type": "code",
   "execution_count": 7,
   "metadata": {},
   "outputs": [
    {
     "name": "stderr",
     "output_type": "stream",
     "text": [
      "c:\\Users\\Adam\\anaconda3\\envs\\DAT640\\lib\\site-packages\\sklearn\\linear_model\\_logistic.py:444: ConvergenceWarning: lbfgs failed to converge (status=1):\n",
      "STOP: TOTAL NO. of ITERATIONS REACHED LIMIT.\n",
      "\n",
      "Increase the number of iterations (max_iter) or scale the data as shown in:\n",
      "    https://scikit-learn.org/stable/modules/preprocessing.html\n",
      "Please also refer to the documentation for alternative solver options:\n",
      "    https://scikit-learn.org/stable/modules/linear_model.html#logistic-regression\n",
      "  n_iter_i = _check_optimize_result(\n"
     ]
    },
    {
     "data": {
      "text/plain": [
       "['boolean',\n",
       " 'resource',\n",
       " 'literal',\n",
       " 'boolean',\n",
       " 'resource',\n",
       " 'literal',\n",
       " 'resource',\n",
       " 'boolean',\n",
       " 'literal',\n",
       " 'resource']"
      ]
     },
     "execution_count": 7,
     "metadata": {},
     "output_type": "execute_result"
    }
   ],
   "source": [
    "from sklearn.linear_model import LogisticRegression\n",
    "\n",
    "clf = LogisticRegression(random_state=0).fit(x_train, y_train)\n",
    "clf.predict(x_train[0:10]).tolist()"
   ]
  },
  {
   "cell_type": "code",
   "execution_count": 8,
   "metadata": {},
   "outputs": [
    {
     "data": {
      "text/plain": [
       "['boolean',\n",
       " 'resource',\n",
       " 'literal',\n",
       " 'boolean',\n",
       " 'resource',\n",
       " 'literal',\n",
       " 'resource',\n",
       " 'boolean',\n",
       " 'literal',\n",
       " 'resource']"
      ]
     },
     "execution_count": 8,
     "metadata": {},
     "output_type": "execute_result"
    }
   ],
   "source": [
    "y_train[0:10]"
   ]
  },
  {
   "cell_type": "code",
   "execution_count": 9,
   "metadata": {},
   "outputs": [
    {
     "data": {
      "text/plain": [
       "array(['boolean', 'literal', 'resource', 'literal', 'boolean'],\n",
       "      dtype='<U8')"
      ]
     },
     "execution_count": 9,
     "metadata": {},
     "output_type": "execute_result"
    }
   ],
   "source": [
    "docs_new = ['Is Stavanger in Norway?', 'How many cats on the roof?', 'Who is the king of England?', 'When did WWII end?', 'Are there nuts in cookies?']\n",
    "x_toy_ex = count_vect.transform(docs_new)\n",
    "predicted = clf.predict(x_toy_ex)\n",
    "\n",
    "predicted"
   ]
  },
  {
   "cell_type": "code",
   "execution_count": 10,
   "metadata": {},
   "outputs": [],
   "source": [
    "filename_test: str = os.path.join('data', 'smarttask_dbpedia_test.json')\n",
    "df_questions_test = pd.read_json(filename)\n",
    "df_questions_test = df_questions_test.dropna(subset=['question', 'category'])\n",
    "x_test = count_vect.transform(df_questions_test['question'])\n",
    "y_test = df_questions_test['category']"
   ]
  },
  {
   "cell_type": "code",
   "execution_count": 11,
   "metadata": {},
   "outputs": [],
   "source": [
    "predicted = clf.predict(x_test)"
   ]
  },
  {
   "cell_type": "code",
   "execution_count": 12,
   "metadata": {},
   "outputs": [
    {
     "data": {
      "text/plain": [
       "0.987220447284345"
      ]
     },
     "execution_count": 12,
     "metadata": {},
     "output_type": "execute_result"
    }
   ],
   "source": [
    "clf.score(x_test, y_test)"
   ]
  },
  {
   "cell_type": "code",
   "execution_count": null,
   "metadata": {},
   "outputs": [],
   "source": []
  }
 ],
 "metadata": {
  "kernelspec": {
   "display_name": "Python 3.9.12 ('DAT640')",
   "language": "python",
   "name": "python3"
  },
  "language_info": {
   "codemirror_mode": {
    "name": "ipython",
    "version": 3
   },
   "file_extension": ".py",
   "mimetype": "text/x-python",
   "name": "python",
   "nbconvert_exporter": "python",
   "pygments_lexer": "ipython3",
   "version": "3.9.12"
  },
  "orig_nbformat": 4,
  "vscode": {
   "interpreter": {
    "hash": "c43aba33fda91952d5a2011b59e45f5bc4f87c2a3dae86255c1f22beb51a9e24"
   }
  }
 },
 "nbformat": 4,
 "nbformat_minor": 2
}
