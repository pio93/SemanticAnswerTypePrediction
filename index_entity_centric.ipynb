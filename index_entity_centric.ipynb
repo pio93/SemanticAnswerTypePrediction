{
 "cells": [
  {
   "cell_type": "code",
   "execution_count": 1,
   "metadata": {},
   "outputs": [],
   "source": [
    "from rdflib import Graph\n",
    "import re\n",
    "import json\n",
    "import string\n",
    "from elasticsearch import Elasticsearch\n",
    "from elasticsearch.helpers import parallel_bulk\n",
    "from log_reg_categorizer import LogRegCategorizer\n",
    "from smart_dataset.evaluation.dbpedia.evaluate import load_type_hierarchy, evaluate, load_ground_truth, load_system_output"
   ]
  },
  {
   "cell_type": "code",
   "execution_count": 2,
   "metadata": {},
   "outputs": [
    {
     "name": "stdout",
     "output_type": "stream",
     "text": [
      "Loading type hierarchy from ./smart_dataset/evaluation/dbpedia/dbpedia_types.tsv... 761 types loaded (max depth: 7)\n"
     ]
    }
   ],
   "source": [
    "from smart_dataset.evaluation.dbpedia.evaluate import load_type_hierarchy\n",
    "type_hier = load_type_hierarchy('./smart_dataset/evaluation/dbpedia/dbpedia_types.tsv')"
   ]
  },
  {
   "cell_type": "code",
   "execution_count": 3,
   "metadata": {},
   "outputs": [],
   "source": [
    "g = Graph()\n",
    "instance_types = dict()\n",
    "g.parse('./data/instance_types_en.ttl', format='n3')\n",
    "for subj, pred, obj in g:\n",
    "    if str(pred) == 'http://www.w3.org/1999/02/22-rdf-syntax-ns#type':\n",
    "        uri = str(subj)\n",
    "        type = str(obj)\n",
    "        if type == 'http://www.w3.org/2002/07/owl#Thing':\n",
    "            type = 'owl:Thing'\n",
    "        elif type.startswith('http://dbpedia.org/ontology/'):\n",
    "            type = type.split(' ')\n",
    "            type = type[0].split(\"/\")[-1].strip()\n",
    "            type = 'dbo:' + type\n",
    "        instance_types[uri] = type"
   ]
  },
  {
   "cell_type": "code",
   "execution_count": 4,
   "metadata": {},
   "outputs": [],
   "source": [
    "g = Graph()\n",
    "short_abstracts = dict()\n",
    "g.parse('./data/short_abstracts_en.ttl', format='n3')\n",
    "for subj, pred, obj in g:\n",
    "    if str(pred) == 'http://www.w3.org/2000/01/rdf-schema#comment':\n",
    "        uri = str(subj)\n",
    "        if uri in instance_types.keys():\n",
    "            type = instance_types[uri]\n",
    "            name = uri.split(' ')\n",
    "            name = name[0].split(\"/\")[-1].strip()\n",
    "            name = re.sub(r'__\\d+', '', name)\n",
    "            name = name.replace('_', ' ')\n",
    "            elem = {'name': name, 'type': type, 'comment': str(obj)}\n",
    "            short_abstracts[uri] = elem"
   ]
  },
  {
   "cell_type": "code",
   "execution_count": 5,
   "metadata": {},
   "outputs": [
    {
     "name": "stderr",
     "output_type": "stream",
     "text": [
      "c:\\Users\\Adam\\anaconda3\\envs\\DAT640\\lib\\site-packages\\elasticsearch\\connection\\base.py:190: ElasticsearchDeprecationWarning: Elasticsearch built-in security features are not enabled. Without authentication, your cluster could be accessible to anyone. See https://www.elastic.co/guide/en/elasticsearch/reference/7.17/security-minimal-setup.html to enable security.\n",
      "  warnings.warn(message, category=ElasticsearchDeprecationWarning)\n"
     ]
    },
    {
     "data": {
      "text/plain": [
       "{'acknowledged': True, 'shards_acknowledged': True, 'index': 'ec_index2'}"
      ]
     },
     "execution_count": 5,
     "metadata": {},
     "output_type": "execute_result"
    }
   ],
   "source": [
    "es = Elasticsearch()\n",
    "INDEX_NAME = 'ec_index2'\n",
    "\n",
    "INDEX_SETTINGS = {    \n",
    "    'settings' : {\n",
    "        'index' : {\n",
    "            \"number_of_shards\" : 1,\n",
    "            \"number_of_replicas\" : 1\n",
    "        },\n",
    "        'analysis': {\n",
    "            'analyzer': {\n",
    "                'my_english_analyzer': {\n",
    "                    'type': \"custom\",\n",
    "                    'tokenizer': \"standard\",\n",
    "                    'stopwords': \"_english_\",\n",
    "                    'filter': [\n",
    "                        \"lowercase\",\n",
    "                        \"english_stop\",\n",
    "                        \"filter_english_minimal\"\n",
    "                    ]                \n",
    "                }\n",
    "            },\n",
    "            'filter' : {\n",
    "                'filter_english_minimal' : {\n",
    "                    'type': \"stemmer\",\n",
    "                    'name': \"minimal_english\"\n",
    "                },\n",
    "                'english_stop': {\n",
    "                    'type': \"stop\",\n",
    "                    'stopwords': \"_english_\"\n",
    "                }\n",
    "            },\n",
    "        }\n",
    "    },\n",
    "    'mappings': {\n",
    "        'properties': {\n",
    "            'name': {\n",
    "                'type': \"text\",\n",
    "                'term_vector': \"with_positions\",\n",
    "                'analyzer': \"my_english_analyzer\"\n",
    "            },\n",
    "            'types': {\n",
    "                'type': \"text\",\n",
    "                'term_vector': \"with_positions\",\n",
    "                'analyzer': \"my_english_analyzer\"\n",
    "            },\n",
    "            'comment': {\n",
    "                'type': \"text\",\n",
    "                'term_vector': \"with_positions\",\n",
    "                'analyzer': \"my_english_analyzer\"\n",
    "            },\n",
    "\n",
    "        }\n",
    "    }\n",
    "}\n",
    "\n",
    "\n",
    "if es.indices.exists(index=INDEX_NAME):\n",
    "    es.indices.delete(index=INDEX_NAME)\n",
    "\n",
    "es.indices.create(index=INDEX_NAME, body=INDEX_SETTINGS)"
   ]
  },
  {
   "cell_type": "code",
   "execution_count": 6,
   "metadata": {},
   "outputs": [],
   "source": [
    "def insert_data(index_name, data):\n",
    "    for key, val in data.items():\n",
    "        yield {\n",
    "                '_index': index_name,\n",
    "                '_type': '_doc',\n",
    "                '_id': key,\n",
    "                '_source': val,\n",
    "            }"
   ]
  },
  {
   "cell_type": "code",
   "execution_count": 7,
   "metadata": {},
   "outputs": [
    {
     "name": "stderr",
     "output_type": "stream",
     "text": [
      "c:\\Users\\Adam\\anaconda3\\envs\\DAT640\\lib\\site-packages\\elasticsearch\\connection\\base.py:190: ElasticsearchDeprecationWarning: [types removal] Specifying types in bulk requests is deprecated.\n",
      "  warnings.warn(message, category=ElasticsearchDeprecationWarning)\n"
     ]
    }
   ],
   "source": [
    "for success, info in parallel_bulk(es, insert_data(INDEX_NAME, short_abstracts), \n",
    "                                        chunk_size=1000, thread_count=16, queue_size=16):  \n",
    "    if not success:\n",
    "        print('A document failed:', info)"
   ]
  },
  {
   "cell_type": "code",
   "execution_count": 9,
   "metadata": {},
   "outputs": [
    {
     "name": "stdout",
     "output_type": "stream",
     "text": [
      "['dbo:AdministrativeRegion']\n"
     ]
    }
   ],
   "source": [
    "res = es.search(index=INDEX_NAME, q = 'What is the capital of Norway?', size = 5)['hits']['hits']\n",
    "print(res[0]['_source']['type'].split(' '))"
   ]
  },
  {
   "cell_type": "code",
   "execution_count": 10,
   "metadata": {},
   "outputs": [
    {
     "name": "stderr",
     "output_type": "stream",
     "text": [
      "c:\\Users\\Adam\\anaconda3\\envs\\DAT640\\lib\\site-packages\\elasticsearch\\connection\\base.py:190: ElasticsearchDeprecationWarning: Elasticsearch built-in security features are not enabled. Without authentication, your cluster could be accessible to anyone. See https://www.elastic.co/guide/en/elasticsearch/reference/7.17/security-minimal-setup.html to enable security.\n",
      "  warnings.warn(message, category=ElasticsearchDeprecationWarning)\n"
     ]
    }
   ],
   "source": [
    "test_questions = json.load(open('./data/smarttask_dbpedia_test_questions.json'))\n",
    "lrc = LogRegCategorizer('./data/smarttask_dbpedia_train.json')\n",
    "baseline_output = list()\n",
    "\n",
    "for question in test_questions:\n",
    "    q_id = question['id']\n",
    "    q_text = question['question']\n",
    "    q_cat = lrc.predict([q_text])[0]\n",
    "    if q_cat == 'boolean':\n",
    "        q_type = ['boolean']\n",
    "    elif q_cat == 'literal':\n",
    "        q_type = lrc.predict_literal_type([q_text]).tolist()\n",
    "    elif q_cat == 'resource':\n",
    "        res = es.search(index=INDEX_NAME, q=q_text.translate(str.maketrans('', '', string.punctuation)), size=5)['hits']['hits']\n",
    "        q_type = [hit['_source']['type'] for hit in res]\n",
    "    else:\n",
    "        q_type = None\n",
    "    \n",
    "    baseline_output.append({\n",
    "        'id': q_id,\n",
    "        'question': q_text,\n",
    "        'category': q_cat,\n",
    "        'type' : q_type\n",
    "    })"
   ]
  },
  {
   "cell_type": "code",
   "execution_count": 11,
   "metadata": {},
   "outputs": [],
   "source": [
    "\n",
    "with open('baseline_entity_cent_results.json', 'w') as outfile:\n",
    "    json.dump(baseline_output, outfile)"
   ]
  },
  {
   "cell_type": "code",
   "execution_count": 13,
   "metadata": {},
   "outputs": [
    {
     "name": "stdout",
     "output_type": "stream",
     "text": [
      "Loading system predictions from ./baseline_entity_cent_results.json... \n",
      "   4369 predictions loaded\n",
      "Loading ground truth from ./data/smarttask_dbpedia_test.json... \n",
      "   4369 questions loaded\n",
      "\n",
      "\n",
      "Evaluation results:\n",
      "-------------------\n",
      "Category prediction (based on 4369 questions)\n",
      "  Accuracy: 0.939\n",
      "Type ranking (based on 4369 questions)\n",
      "  NDCG@5:  0.538\n",
      "  NDCG@10: 0.517\n"
     ]
    }
   ],
   "source": [
    "so = load_system_output('./baseline_entity_cent_results.json')\n",
    "gt = load_ground_truth('./data/smarttask_dbpedia_test.json', type_hier[0].keys())\n",
    "evaluate(so, gt, type_hier[0], 7)"
   ]
  },
  {
   "cell_type": "code",
   "execution_count": null,
   "metadata": {},
   "outputs": [],
   "source": []
  }
 ],
 "metadata": {
  "kernelspec": {
   "display_name": "Python 3.7.2 64-bit",
   "language": "python",
   "name": "python3"
  },
  "language_info": {
   "codemirror_mode": {
    "name": "ipython",
    "version": 3
   },
   "file_extension": ".py",
   "mimetype": "text/x-python",
   "name": "python",
   "nbconvert_exporter": "python",
   "pygments_lexer": "ipython3",
   "version": "3.7.2"
  },
  "orig_nbformat": 4,
  "vscode": {
   "interpreter": {
    "hash": "b636df130931d89ccbf7879357a120ac56f48d5de821ea4c94cac4bdee991edd"
   }
  }
 },
 "nbformat": 4,
 "nbformat_minor": 2
}
